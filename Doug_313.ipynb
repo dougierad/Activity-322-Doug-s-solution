{
  "nbformat": 4,
  "nbformat_minor": 0,
  "metadata": {
    "colab": {
      "provenance": [],
      "authorship_tag": "ABX9TyN8GyRdly08SV0JVPj6Cdqn",
      "include_colab_link": true
    },
    "kernelspec": {
      "name": "python3",
      "display_name": "Python 3"
    },
    "language_info": {
      "name": "python"
    }
  },
  "cells": [
    {
      "cell_type": "markdown",
      "metadata": {
        "id": "view-in-github",
        "colab_type": "text"
      },
      "source": [
        "<a href=\"https://colab.research.google.com/github/dougierad/Activity-322-Doug-s-solution/blob/master/Doug_313.ipynb\" target=\"_parent\"><img src=\"https://colab.research.google.com/assets/colab-badge.svg\" alt=\"Open In Colab\"/></a>"
      ]
    },
    {
      "cell_type": "code",
      "execution_count": 3,
      "metadata": {
        "colab": {
          "base_uri": "https://localhost:8080/",
          "height": 106
        },
        "id": "nw5cJDpPtzTM",
        "outputId": "a7411d30-a038-4291-9529-dfe38f854155"
      },
      "outputs": [
        {
          "output_type": "error",
          "ename": "SyntaxError",
          "evalue": "invalid syntax (<ipython-input-3-8c39aba82a36>, line 19)",
          "traceback": [
            "\u001b[0;36m  File \u001b[0;32m\"<ipython-input-3-8c39aba82a36>\"\u001b[0;36m, line \u001b[0;32m19\u001b[0m\n\u001b[0;31m    eliff (sandwichChoice == \"beef\" or sandwichChoice == \"Beef\"):\u001b[0m\n\u001b[0m                                                                ^\u001b[0m\n\u001b[0;31mSyntaxError\u001b[0m\u001b[0;31m:\u001b[0m invalid syntax\n"
          ]
        }
      ],
      "source": [
        "#3.1.3 Combo Menu\n",
        "#\n",
        "#Doug Rademacher, 3 Apr 2024\n",
        "\n",
        "#initialize variables\n",
        "sandwichChoice = \"\"\n",
        "drink = \"\"\n",
        "totalCost = 0\n",
        "\n",
        "#Ask the user what type of sandwich they want\n",
        "print(\"*** Welcome to Doug's Lunch Bonanza! ***\")\n",
        "print(\"\\n\")\n",
        "sandwichChoice = input(\"What sandwich would you like:\\n \\tchicken \\t($5.25)\\n \\tbeef \\t\\t($6.25)\\n \\ttofu \\t\\t($5.75)\\n? \")\n",
        "print(\"\\nYou have selected a\", sandwichChoice, \"sandwich.\")\n",
        "\n",
        "#Add the cost of the sandwich\n",
        "if (sandwichChoice == \"chicken\" or sandwichChoice == \"Chicken\"):\n",
        "  totalCost = totalCost + 5.25\n",
        "elif (sandwichChoice == \"beef\" or sandwichChoice == \"Beef\"):\n",
        "  totalCost = totalCost + 6.25\n",
        "elif (sandwichChoice == \"tofu\" or sandwichChoice == \"Tofu\"):\n",
        "  totalCost = totalCost + 5.75\n",
        "else:\n",
        "  print(\"Please order from the menu.\\n\")\n",
        "\n",
        "print(\"Your total so far is $\", totalCost, \"\\n\")\n",
        "\n",
        "#Ask about a drink\n",
        "drinkYesNo=input(\"Do you want a beverage (y/n):\\n?\")\n",
        "print(\"\\n\")\n",
        "if (drinkYesNo==\"y\"):\n",
        "  drinkChoice=input(\"What size would you like:\\n \\tsmall \\t\\t($1.00)\\n \\tmedium \\t\\t($1.75)\\n \\tlarge \\t\\t($2.25)\\n? \")\n",
        "  print(\"\\nYou have selected a\", drinkChoice, \"drink.\")\n",
        "else:\n",
        "  print(\"You did not select a refreshing drink today.\")"
      ]
    },
    {
      "cell_type": "markdown",
      "source": [
        "This is my program"
      ],
      "metadata": {
        "id": "oNESwkMTz4Ok"
      }
    },
    {
      "cell_type": "code",
      "source": [],
      "metadata": {
        "id": "aTj9nEIdz6uN"
      },
      "execution_count": null,
      "outputs": []
    }
  ]
}